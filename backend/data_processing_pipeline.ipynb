{
 "cells": [
  {
   "cell_type": "code",
   "execution_count": 1,
   "metadata": {},
   "outputs": [],
   "source": [
    "import sys\n",
    "sys.path.append(\"..\")\n",
    "from backend.data_methods import DataLoader, DataCleaner"
   ]
  },
  {
   "cell_type": "code",
   "execution_count": 2,
   "metadata": {},
   "outputs": [],
   "source": [
    "import yaml\n",
    "with open(\"../config.yaml\", \"r\") as file:\n",
    "    config = yaml.safe_load(file)"
   ]
  },
  {
   "cell_type": "code",
   "execution_count": 5,
   "metadata": {},
   "outputs": [],
   "source": [
    "import streamlit as st"
   ]
  },
  {
   "cell_type": "code",
   "execution_count": 6,
   "metadata": {},
   "outputs": [],
   "source": [
    "def bulk_loader_page():\n",
    "    st.title(\"Bulk Loader\")\n",
    "    folder_id = st.text_input(\"Enter Google Drive Folder ID:\")\n",
    "    if st.button(\"Upload Resumes\"):\n",
    "        with st.spinner(\"Processing resumes...\"):pass\n",
    "            # resumes = parse_resumes_from_drive(folder_id)\n",
    "            # embeddings = generate_embeddings(resumes)\n",
    "            # add_embeddings_to_db(embeddings)\n",
    "            # st.success(\"Resumes uploaded and processed successfully!\")"
   ]
  }
 ],
 "metadata": {
  "kernelspec": {
   "display_name": "resume_chromadb_env2",
   "language": "python",
   "name": "python3"
  },
  "language_info": {
   "codemirror_mode": {
    "name": "ipython",
    "version": 3
   },
   "file_extension": ".py",
   "mimetype": "text/x-python",
   "name": "python",
   "nbconvert_exporter": "python",
   "pygments_lexer": "ipython3",
   "version": "3.9.20"
  }
 },
 "nbformat": 4,
 "nbformat_minor": 2
}
