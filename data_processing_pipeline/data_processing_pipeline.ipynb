{
 "cells": [
  {
   "cell_type": "code",
   "execution_count": null,
   "metadata": {},
   "outputs": [],
   "source": [
    "import sys\n",
    "sys.path.append(\"..\")\n",
    "from data_processing_pipeline.data_methods import DataLoader, DataCleaner"
   ]
  },
  {
   "cell_type": "code",
   "execution_count": 43,
   "metadata": {},
   "outputs": [],
   "source": [
    "import yaml\n",
    "with open(\"../config.yaml\", \"r\") as file:\n",
    "    config = yaml.safe_load(file)"
   ]
  },
  {
   "cell_type": "code",
   "execution_count": 44,
   "metadata": {},
   "outputs": [],
   "source": [
    "df = DataLoader.load_csv(config[\"paths\"][\"resume_data_csv\"])\n",
    "df['clean_resume'] = df.Resume.apply(lambda x: DataCleaner.clean_resume_text(x))"
   ]
  },
  {
   "cell_type": "code",
   "execution_count": null,
   "metadata": {},
   "outputs": [
    {
     "data": {
      "text/plain": [
       "'Skill Set OS Windows XP788.110 Database MYSQL, sql server 2005, 2008 2012 Languages Core Java Web Technology HTML, CSS Testing Manual Testing, Database Testing Other Bug tracking and reporting, End user handling. Details January 2016 MCS Pune, Maharashtra P.V.P College Pravaranagar January 2011 HSC A.K.Junior College January 2009 SSC A.K.Mahavidyalya JR TESTING ENGINEER JR TESTING ENGINEER MTech Innovations Ltd Skill Details TESTING Exprience 24 months WINDOWS XP Exprience 24 months CSS Exprience 6 months DATABASE Exprience 6 months DATABASE TESTING Exprience 6 monthsCompany Details company MTech Innovations Ltd description Responsibilities Analyzing the Testing Requirements Preparing Test Plans, Test Scenarios Preparing Test Cases Executing the test cases Tracking bugs Coordinating developers in order to fix it Preparing test summary reports Reporting quality manager Attending meeting Projects Project Name 1.Web Based Time Attendance Application Environment Windows7, Vista, Windows XP, Windows 8, Windows 10 Clients MCCIA, Sapphire Park, Bramha Suncity, Wanless hospital Role Software Testing Duration 6 months Project Name Android 1.Time Attendance Application 2.Vehicle Tracking System 3.Vistor Management System Environment Android Mobile, Android Tablet. Clients Vankan Security Role Application Testing Duration 6 months Project Name 1.Web Based Factory Automation Process 2.Web Based Annual Maintenance Charges Environment Windows7, Vista, Windows XP, Windows 8, Windows 10 Role Software Testing Duration 6 months Project Name Web Based Library Management System Environment Windows7, Vista, Windows XP, Windows 8, Windows 10 Role Software Testing Duration 6 months'"
      ]
     },
     "execution_count": 63,
     "metadata": {},
     "output_type": "execute_result"
    }
   ],
   "source": []
  }
 ],
 "metadata": {
  "kernelspec": {
   "display_name": "resume_chromadb_env2",
   "language": "python",
   "name": "python3"
  },
  "language_info": {
   "codemirror_mode": {
    "name": "ipython",
    "version": 3
   },
   "file_extension": ".py",
   "mimetype": "text/x-python",
   "name": "python",
   "nbconvert_exporter": "python",
   "pygments_lexer": "ipython3",
   "version": "3.9.20"
  }
 },
 "nbformat": 4,
 "nbformat_minor": 2
}
